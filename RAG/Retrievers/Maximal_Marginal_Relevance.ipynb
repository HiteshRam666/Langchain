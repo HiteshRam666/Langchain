{
 "cells": [
  {
   "cell_type": "code",
   "execution_count": 1,
   "id": "5ca3e44c",
   "metadata": {},
   "outputs": [],
   "source": [
    "# Algorithm to avoid redundancy in the retrieved results while maintaining high relevance to the query (not using Similarity search)\n",
    "from langchain_core.documents import Document \n",
    "\n",
    "documents = [\n",
    "    Document(page_content=\"LangChain helps developers build LLM applications easily.\"),\n",
    "    Document(page_content=\"Chroma is a vector database optimized for LLM-based search.\"),\n",
    "    Document(page_content=\"Embeddings convert text into high-dimensional vectors.\"),\n",
    "    Document(page_content=\"OpenAI provides powerful embedding models.\"),\n",
    "]"
   ]
  },
  {
   "cell_type": "code",
   "execution_count": 5,
   "id": "03b17fed",
   "metadata": {},
   "outputs": [],
   "source": [
    "from langchain_community.vectorstores import FAISS\n",
    "from langchain_openai import ChatOpenAI, OpenAIEmbeddings\n",
    "\n",
    "embeddings = OpenAIEmbeddings()\n",
    "\n",
    "# Vector Stores \n",
    "vector_store = FAISS.from_documents(\n",
    "    documents=documents, \n",
    "    embedding=embeddings\n",
    ")"
   ]
  },
  {
   "cell_type": "code",
   "execution_count": 12,
   "id": "20c180e0",
   "metadata": {},
   "outputs": [],
   "source": [
    "# MMR in the retriever \n",
    "retriever = vector_store.as_retriever(\n",
    "    search_type = \"mmr\", \n",
    "    search_kwargs = {'k': 3, \"lambda_mult\": 1}\n",
    ")"
   ]
  },
  {
   "cell_type": "code",
   "execution_count": 13,
   "id": "65869949",
   "metadata": {},
   "outputs": [],
   "source": [
    "query = \"What is langchain ?\"\n",
    "result = retriever.invoke(query)"
   ]
  },
  {
   "cell_type": "code",
   "execution_count": 18,
   "id": "727f890f",
   "metadata": {},
   "outputs": [
    {
     "name": "stdout",
     "output_type": "stream",
     "text": [
      "\n",
      "=== Result 1 ===\n",
      "LangChain helps developers build LLM applications easily.\n",
      "\n",
      "=== Result 2 ===\n",
      "Chroma is a vector database optimized for LLM-based search.\n",
      "\n",
      "=== Result 3 ===\n",
      "OpenAI provides powerful embedding models.\n"
     ]
    }
   ],
   "source": [
    "for i, doc in enumerate(result):\n",
    "    print(f\"\\n=== Result {i + 1} ===\")\n",
    "    print(doc.page_content)"
   ]
  },
  {
   "cell_type": "code",
   "execution_count": null,
   "id": "cfeb5594",
   "metadata": {},
   "outputs": [],
   "source": []
  }
 ],
 "metadata": {
  "kernelspec": {
   "display_name": "venv",
   "language": "python",
   "name": "python3"
  },
  "language_info": {
   "codemirror_mode": {
    "name": "ipython",
    "version": 3
   },
   "file_extension": ".py",
   "mimetype": "text/x-python",
   "name": "python",
   "nbconvert_exporter": "python",
   "pygments_lexer": "ipython3",
   "version": "3.10.11"
  }
 },
 "nbformat": 4,
 "nbformat_minor": 5
}
