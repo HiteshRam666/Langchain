{
 "cells": [
  {
   "cell_type": "code",
   "execution_count": 3,
   "id": "75dc10a7",
   "metadata": {},
   "outputs": [
    {
     "data": {
      "text/plain": [
       "True"
      ]
     },
     "execution_count": 3,
     "metadata": {},
     "output_type": "execute_result"
    }
   ],
   "source": [
    "from langchain_community.vectorstores import Chroma\n",
    "from langchain_openai import ChatOpenAI, OpenAIEmbeddings\n",
    "from langchain_core.documents import Document\n",
    "from dotenv import load_dotenv \n",
    "load_dotenv()"
   ]
  },
  {
   "cell_type": "code",
   "execution_count": null,
   "id": "e4d3f79e",
   "metadata": {},
   "outputs": [],
   "source": [
    "# Step 1: Your source documents\n",
    "documents = [\n",
    "    Document(page_content=\"LangChain helps developers build LLM applications easily.\"),\n",
    "    Document(page_content=\"Chroma is a vector database optimized for LLM-based search.\"),\n",
    "    Document(page_content=\"Embeddings convert text into high-dimensional vectors.\"),\n",
    "    Document(page_content=\"OpenAI provides powerful embedding models.\"),\n",
    "]"
   ]
  },
  {
   "cell_type": "code",
   "execution_count": 7,
   "id": "78fe285d",
   "metadata": {},
   "outputs": [],
   "source": [
    "# Embedding model \n",
    "embedding_model = OpenAIEmbeddings()\n",
    "\n",
    "# Chroma vector store \n",
    "vector_store = Chroma.from_documents(\n",
    "    embedding=embedding_model, \n",
    "    collection_name=\"my_collection\", \n",
    "    documents = documents\n",
    ")"
   ]
  },
  {
   "cell_type": "code",
   "execution_count": 8,
   "id": "9f3c5b5f",
   "metadata": {},
   "outputs": [],
   "source": [
    "# Convert vectorstore as retriever \n",
    "retriever = vector_store.as_retriever(search_kwargs = {'k':2})"
   ]
  },
  {
   "cell_type": "code",
   "execution_count": 10,
   "id": "d6ed4388",
   "metadata": {},
   "outputs": [],
   "source": [
    "query = \"What is chroma used for ?\"\n",
    "results = retriever.invoke(query)"
   ]
  },
  {
   "cell_type": "code",
   "execution_count": 13,
   "id": "c508acd3",
   "metadata": {},
   "outputs": [
    {
     "name": "stdout",
     "output_type": "stream",
     "text": [
      "\n",
      "----Result 1 ----\n",
      "Chroma is a vector database optimized for LLM-based search.\n",
      "\n",
      "----Result 2 ----\n",
      "LangChain helps developers build LLM applications easily.\n"
     ]
    }
   ],
   "source": [
    "for i, doc in enumerate(results):\n",
    "    print(f\"\\n----Result {i + 1} ----\")\n",
    "    print(doc.page_content)"
   ]
  },
  {
   "cell_type": "code",
   "execution_count": null,
   "id": "a74c0ee9",
   "metadata": {},
   "outputs": [],
   "source": [
    " "
   ]
  }
 ],
 "metadata": {
  "kernelspec": {
   "display_name": "venv",
   "language": "python",
   "name": "python3"
  },
  "language_info": {
   "codemirror_mode": {
    "name": "ipython",
    "version": 3
   },
   "file_extension": ".py",
   "mimetype": "text/x-python",
   "name": "python",
   "nbconvert_exporter": "python",
   "pygments_lexer": "ipython3",
   "version": "3.10.11"
  }
 },
 "nbformat": 4,
 "nbformat_minor": 5
}
