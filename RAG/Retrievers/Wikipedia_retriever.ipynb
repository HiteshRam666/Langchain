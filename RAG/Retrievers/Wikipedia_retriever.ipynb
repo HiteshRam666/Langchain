{
 "cells": [
  {
   "cell_type": "code",
   "execution_count": 2,
   "id": "dcd76c42",
   "metadata": {},
   "outputs": [],
   "source": [
    "from langchain_community.retrievers import WikipediaRetriever \n",
    "from langchain_openai import ChatOpenAI, OpenAIEmbeddings\n",
    "\n",
    "# Initialize the retriever \n",
    "retriever = WikipediaRetriever(top_k_results = 2, lang = \"en\")"
   ]
  },
  {
   "cell_type": "code",
   "execution_count": 3,
   "id": "4d687302",
   "metadata": {},
   "outputs": [],
   "source": [
    "# Query \n",
    "query = \"Aritificial Intelligence changing the world\"\n",
    "\n",
    "# Get relevant documents \n",
    "docs = retriever.invoke(query)"
   ]
  },
  {
   "cell_type": "code",
   "execution_count": 4,
   "id": "97db8fee",
   "metadata": {},
   "outputs": [
    {
     "data": {
      "text/plain": [
       "[Document(metadata={'title': 'Neural network (machine learning)', 'summary': 'In machine learning, a neural network (also artificial neural network or neural net, abbreviated ANN or NN) is a computational model inspired by the structure and functions of biological neural networks.\\nA neural network consists of connected units or nodes called artificial neurons, which loosely model the neurons in the brain. Artificial neuron models that mimic biological neurons more closely have also been recently investigated and shown to significantly improve performance. These are connected by edges, which model the synapses in the brain. Each artificial neuron receives signals from connected neurons, then processes them and sends a signal to other connected neurons. The \"signal\" is a real number, and the output of each neuron is computed by some non-linear function of the totality of its inputs, called the activation function. The strength of the signal at each connection is determined by a weight, which adjusts during the learning process.\\nTypically, neurons are aggregated into layers. Different layers may perform different transformations on their inputs. Signals travel from the first layer (the input layer) to the last layer (the output layer), possibly passing through multiple intermediate layers (hidden layers). A network is typically called a deep neural network if it has at least two hidden layers.\\nArtificial neural networks are used for various tasks, including predictive modeling, adaptive control, and solving problems in artificial intelligence. They can learn from experience, and can derive conclusions from a complex and seemingly unrelated set of information.', 'source': 'https://en.wikipedia.org/wiki/Neural_network_(machine_learning)'}, page_content='In machine learning, a neural network (also artificial neural network or neural net, abbreviated ANN or NN) is a computational model inspired by the structure and functions of biological neural networks.\\nA neural network consists of connected units or nodes called artificial neurons, which loosely model the neurons in the brain. Artificial neuron models that mimic biological neurons more closely have also been recently investigated and shown to significantly improve performance. These are connected by edges, which model the synapses in the brain. Each artificial neuron receives signals from connected neurons, then processes them and sends a signal to other connected neurons. The \"signal\" is a real number, and the output of each neuron is computed by some non-linear function of the totality of its inputs, called the activation function. The strength of the signal at each connection is determined by a weight, which adjusts during the learning process.\\nTypically, neurons are aggregated into layers. Different layers may perform different transformations on their inputs. Signals travel from the first layer (the input layer) to the last layer (the output layer), possibly passing through multiple intermediate layers (hidden layers). A network is typically called a deep neural network if it has at least two hidden layers.\\nArtificial neural networks are used for various tasks, including predictive modeling, adaptive control, and solving problems in artificial intelligence. They can learn from experience, and can derive conclusions from a complex and seemingly unrelated set of information.\\n\\n\\n== Training ==\\nNeural networks are typically trained through empirical risk minimization. This method is based on the idea of optimizing the network\\'s parameters to minimize the difference, or empirical risk, between the predicted output and the actual target values in a given dataset. Gradient-based methods such as backpropagation are usually used to estimate the parameters of the network. During the training phase, ANNs learn from labeled training data by iteratively updating their parameters to minimize a defined loss function. This method allows the network to generalize to unseen data.\\n\\n\\n== History ==\\n\\n\\n=== Early work ===\\nToday\\'s deep neural networks are based on early work in statistics over 200 years ago. The simplest kind of feedforward neural network (FNN) is a linear network, which consists of a single layer of output nodes with linear activation functions; the inputs are fed directly to the outputs via a series of weights. The sum of the products of the weights and the inputs is calculated at each node. The mean squared errors between these calculated outputs and the given target values are minimized by creating an adjustment to the weights. This technique has been known for over two centuries as the method of least squares or linear regression. It was used as a means of finding a good rough linear fit to a set of points by Legendre (1805) and Gauss (1795) for the prediction of planetary movement.\\nHistorically, digital computers such as the von Neumann model operate via the execution of explicit instructions with access to memory by a number of processors. Some neural networks, on the other hand, originated from efforts to model information processing in biological systems through the framework of connectionism. Unlike the von Neumann model, connectionist computing does not separate memory and processing.\\nWarren McCulloch and Walter Pitts (1943) considered a non-learning computational model for neural networks. This model paved the way for research to split into two approaches. One approach focused on biological processes while the other focused on the application of neural networks to artificial intelligence.\\nIn the late 1940s, D. O. Hebb proposed a learning hypothesis based on the mechanism of neural plasticity that became known as Hebbian learning. It was used in many early neural networks, such as Rosenblatt\\'s perceptron and the Hopfi'),\n",
       " Document(metadata={'title': 'Thug Life (2025 film)', 'summary': \"Thug Life is a 2025 Indian Tamil-language gangster action drama film directed by Mani Ratnam, who co-wrote the script with Kamal Haasan. Produced by Raaj Kamal Films International and Madras Talkies, the film stars Haasan, alongside Silambarasan, Trisha Krishnan, Aishwarya Lekshmi, Abhirami, Ashok Selvan, Joju George, Nassar, Mahesh Manjrekar, Ali Fazal, Sanjana Krishnamoorthy and Tanikella Bharani. It marks the reunion of Haasan and Ratnam after their previous collaboration, Nayakan (1987). The film follows Rangaraaya Sakthivel, a feared mafia kingpin in New Delhi, who seeks redemption and revenge after being betrayed by his brother, Rangaraaya Manickam, and the one he raised, Amaran.\\nThe film was officially announced in November 2022 under the tentative title Kamal Haasan 234, as it is Haasan's 234th film as a lead actor, and the official title was revealed a year later. Principal photography took place from January to late 2024 across Chennai, Kanchipuram, Pondicherry, New Delhi, and parts of North India. The film has music composed by A. R. Rahman, cinematography handled by Ravi K. Chandran, and editing by A. Sreekar Prasad.\\nThug Life was released theatrically on 5 June 2025 in India by Red Giant Movies in standard, IMAX and EPIQ formats to negative reviews from critics, who praised the performance of Hassan and Silambarasan, cinematography, staging and music. But criticized the second half and the predictability, and the screenplay. It became a box office disaster by collecting ₹96 crore.\", 'source': 'https://en.wikipedia.org/wiki/Thug_Life_(2025_film)'}, page_content='Thug Life is a 2025 Indian Tamil-language gangster action drama film directed by Mani Ratnam, who co-wrote the script with Kamal Haasan. Produced by Raaj Kamal Films International and Madras Talkies, the film stars Haasan, alongside Silambarasan, Trisha Krishnan, Aishwarya Lekshmi, Abhirami, Ashok Selvan, Joju George, Nassar, Mahesh Manjrekar, Ali Fazal, Sanjana Krishnamoorthy and Tanikella Bharani. It marks the reunion of Haasan and Ratnam after their previous collaboration, Nayakan (1987). The film follows Rangaraaya Sakthivel, a feared mafia kingpin in New Delhi, who seeks redemption and revenge after being betrayed by his brother, Rangaraaya Manickam, and the one he raised, Amaran.\\nThe film was officially announced in November 2022 under the tentative title Kamal Haasan 234, as it is Haasan\\'s 234th film as a lead actor, and the official title was revealed a year later. Principal photography took place from January to late 2024 across Chennai, Kanchipuram, Pondicherry, New Delhi, and parts of North India. The film has music composed by A. R. Rahman, cinematography handled by Ravi K. Chandran, and editing by A. Sreekar Prasad.\\nThug Life was released theatrically on 5 June 2025 in India by Red Giant Movies in standard, IMAX and EPIQ formats to negative reviews from critics, who praised the performance of Hassan and Silambarasan, cinematography, staging and music. But criticized the second half and the predictability, and the screenplay. It became a box office disaster by collecting ₹96 crore.\\n\\n\\n== Plot ==\\nThe film begins with the protagonist, Sakthi, in a green field, facing somebody in a fight, describing his relationship with Lord Yama, who killed his mother when Sakthi was young, from when he had become a thug and a one-man yakuza.\\nIn 1994, in Old Delhi, gang leader Sadanand Yadav meets with rival kingpins Rangaraaya \"Manickam\" Manickavel and his younger brother and co-leader Rangaraaya \"Sakthi\" Sakthivel to discuss a truce between them after years of rivalry. However, unbeknownst to Manickam and Sakthivel, Sadanand later invalidates the truce by orchestrating a shootout involving the Delhi Police. The ensuing tussle results in the death of a newspaper deliveryman caught in the crossfire when he is unknowingly shot by Manickam, leaving his children, Amaran and Chandra, separated. Sakthivel believes Amaran shielded him during the chaos. Moved by the incident after learning that Amaran\\'s father was the newspaper delivery man, Sakthivel adopts him and raises him as his own son, while promising Amaran that he will find Chandra.\\nIn 2016, Manickam’s daughter, Shanthi, dies by suicide after being cheated by Sadanand’s nephew, Ranvijay Yadav. In retaliation, Amaran captures Ranvijay, who Sakthivel kills. As a result, Sakthivel is imprisoned, leaving Amaran in charge of the empire. Later, Manickam and Amaran meet Sadanand, who proposes a peace deal again: he will enter politics, and Amaran can take over his business territories. Though initially displeased, Sakthivel eventually accepts the arrangement and is released from prison. Upon his return, he approves of his daughter Mangai’s relationship with Naaga, son of his henchman Sivaguru, and arranges their wedding. During the ceremony, he observes the shifting dynamics of his empire, with everyone now treating Amaran as the leader, concerning him as he thinks Amaran might overthrow him.\\nWhile traveling with his gang, Sakthivel narrowly survives an assassination attempt by henchmen of Deepak, Ranvijay\\'s older brother, who swears to avenge his brother\\'s death by finishing Sakthivel, despite Sadanand\\'s reluctance due to their deal. Sakthivel is admitted to the hospital, where he meets Inspector Jai Royappa, who tries to ask him about the gang war. After the incident, Sakthivel begins to suspect Amaran, due to his absence during the attack, and eventually confronts him, deeply unsettling Amaran. Sakthivel\\'s wife Jeeva tells him that Amaran was with them at that time and Mangai was pregn')]"
      ]
     },
     "execution_count": 4,
     "metadata": {},
     "output_type": "execute_result"
    }
   ],
   "source": [
    "docs"
   ]
  },
  {
   "cell_type": "code",
   "execution_count": 5,
   "id": "f5fccd98",
   "metadata": {},
   "outputs": [
    {
     "name": "stdout",
     "output_type": "stream",
     "text": [
      "===Result 1 ===\n",
      "Content: \n",
      "In machine learning, a neural network (also artificial neural network or neural net, abbreviated ANN or NN) is a computational model inspired by the structure and functions of biological neural networks.\n",
      "A neural network consists of connected units or nodes called artificial neurons, which loosely model the neurons in the brain. Artificial neuron models that mimic biological neurons more closely have also been recently investigated and shown to significantly improve performance. These are connected by edges, which model the synapses in the brain. Each artificial neuron receives signals from connected neurons, then processes them and sends a signal to other connected neurons. The \"signal\" is a real number, and the output of each neuron is computed by some non-linear function of the totality of its inputs, called the activation function. The strength of the signal at each connection is determined by a weight, which adjusts during the learning process.\n",
      "Typically, neurons are aggregated into layers. Different layers may perform different transformations on their inputs. Signals travel from the first layer (the input layer) to the last layer (the output layer), possibly passing through multiple intermediate layers (hidden layers). A network is typically called a deep neural network if it has at least two hidden layers.\n",
      "Artificial neural networks are used for various tasks, including predictive modeling, adaptive control, and solving problems in artificial intelligence. They can learn from experience, and can derive conclusions from a complex and seemingly unrelated set of information.\n",
      "\n",
      "\n",
      "== Training ==\n",
      "Neural networks are typically trained through empirical risk minimization. This method is based on the idea of optimizing the network's parameters to minimize the difference, or empirical risk, between the predicted output and the actual target values in a given dataset. Gradient-based methods such as backpropagation are usually used to estimate the parameters of the network. During the training phase, ANNs learn from labeled training data by iteratively updating their parameters to minimize a defined loss function. This method allows the network to generalize to unseen data.\n",
      "\n",
      "\n",
      "== History ==\n",
      "\n",
      "\n",
      "=== Early work ===\n",
      "Today's deep neural networks are based on early work in statistics over 200 years ago. The simplest kind of feedforward neural network (FNN) is a linear network, which consists of a single layer of output nodes with linear activation functions; the inputs are fed directly to the outputs via a series of weights. The sum of the products of the weights and the inputs is calculated at each node. The mean squared errors between these calculated outputs and the given target values are minimized by creating an adjustment to the weights. This technique has been known for over two centuries as the method of least squares or linear regression. It was used as a means of finding a good rough linear fit to a set of points by Legendre (1805) and Gauss (1795) for the prediction of planetary movement.\n",
      "Historically, digital computers such as the von Neumann model operate via the execution of explicit instructions with access to memory by a number of processors. Some neural networks, on the other hand, originated from efforts to model information processing in biological systems through the framework of connectionism. Unlike the von Neumann model, connectionist computing does not separate memory and processing.\n",
      "Warren McCulloch and Walter Pitts (1943) considered a non-learning computational model for neural networks. This model paved the way for research to split into two approaches. One approach focused on biological processes while the other focused on the application of neural networks to artificial intelligence.\n",
      "In the late 1940s, D. O. Hebb proposed a learning hypothesis based on the mechanism of neural plasticity that became known as Hebbian learning. It was used in many early neural networks, such as Rosenblatt's perceptron and the Hopfi...\n",
      "===Result 2 ===\n",
      "Content: \n",
      "Thug Life is a 2025 Indian Tamil-language gangster action drama film directed by Mani Ratnam, who co-wrote the script with Kamal Haasan. Produced by Raaj Kamal Films International and Madras Talkies, the film stars Haasan, alongside Silambarasan, Trisha Krishnan, Aishwarya Lekshmi, Abhirami, Ashok Selvan, Joju George, Nassar, Mahesh Manjrekar, Ali Fazal, Sanjana Krishnamoorthy and Tanikella Bharani. It marks the reunion of Haasan and Ratnam after their previous collaboration, Nayakan (1987). The film follows Rangaraaya Sakthivel, a feared mafia kingpin in New Delhi, who seeks redemption and revenge after being betrayed by his brother, Rangaraaya Manickam, and the one he raised, Amaran.\n",
      "The film was officially announced in November 2022 under the tentative title Kamal Haasan 234, as it is Haasan's 234th film as a lead actor, and the official title was revealed a year later. Principal photography took place from January to late 2024 across Chennai, Kanchipuram, Pondicherry, New Delhi, and parts of North India. The film has music composed by A. R. Rahman, cinematography handled by Ravi K. Chandran, and editing by A. Sreekar Prasad.\n",
      "Thug Life was released theatrically on 5 June 2025 in India by Red Giant Movies in standard, IMAX and EPIQ formats to negative reviews from critics, who praised the performance of Hassan and Silambarasan, cinematography, staging and music. But criticized the second half and the predictability, and the screenplay. It became a box office disaster by collecting ₹96 crore.\n",
      "\n",
      "\n",
      "== Plot ==\n",
      "The film begins with the protagonist, Sakthi, in a green field, facing somebody in a fight, describing his relationship with Lord Yama, who killed his mother when Sakthi was young, from when he had become a thug and a one-man yakuza.\n",
      "In 1994, in Old Delhi, gang leader Sadanand Yadav meets with rival kingpins Rangaraaya \"Manickam\" Manickavel and his younger brother and co-leader Rangaraaya \"Sakthi\" Sakthivel to discuss a truce between them after years of rivalry. However, unbeknownst to Manickam and Sakthivel, Sadanand later invalidates the truce by orchestrating a shootout involving the Delhi Police. The ensuing tussle results in the death of a newspaper deliveryman caught in the crossfire when he is unknowingly shot by Manickam, leaving his children, Amaran and Chandra, separated. Sakthivel believes Amaran shielded him during the chaos. Moved by the incident after learning that Amaran's father was the newspaper delivery man, Sakthivel adopts him and raises him as his own son, while promising Amaran that he will find Chandra.\n",
      "In 2016, Manickam’s daughter, Shanthi, dies by suicide after being cheated by Sadanand’s nephew, Ranvijay Yadav. In retaliation, Amaran captures Ranvijay, who Sakthivel kills. As a result, Sakthivel is imprisoned, leaving Amaran in charge of the empire. Later, Manickam and Amaran meet Sadanand, who proposes a peace deal again: he will enter politics, and Amaran can take over his business territories. Though initially displeased, Sakthivel eventually accepts the arrangement and is released from prison. Upon his return, he approves of his daughter Mangai’s relationship with Naaga, son of his henchman Sivaguru, and arranges their wedding. During the ceremony, he observes the shifting dynamics of his empire, with everyone now treating Amaran as the leader, concerning him as he thinks Amaran might overthrow him.\n",
      "While traveling with his gang, Sakthivel narrowly survives an assassination attempt by henchmen of Deepak, Ranvijay's older brother, who swears to avenge his brother's death by finishing Sakthivel, despite Sadanand's reluctance due to their deal. Sakthivel is admitted to the hospital, where he meets Inspector Jai Royappa, who tries to ask him about the gang war. After the incident, Sakthivel begins to suspect Amaran, due to his absence during the attack, and eventually confronts him, deeply unsettling Amaran. Sakthivel's wife Jeeva tells him that Amaran was with them at that time and Mangai was pregn...\n"
     ]
    }
   ],
   "source": [
    "# Print retrieved content \n",
    "for i, doc in enumerate(docs):\n",
    "    print(f\"===Result {i + 1} ===\")\n",
    "    print(f\"Content: \\n{doc.page_content}...\")"
   ]
  },
  {
   "cell_type": "code",
   "execution_count": null,
   "id": "3e762306",
   "metadata": {},
   "outputs": [],
   "source": []
  }
 ],
 "metadata": {
  "kernelspec": {
   "display_name": "venv",
   "language": "python",
   "name": "python3"
  },
  "language_info": {
   "codemirror_mode": {
    "name": "ipython",
    "version": 3
   },
   "file_extension": ".py",
   "mimetype": "text/x-python",
   "name": "python",
   "nbconvert_exporter": "python",
   "pygments_lexer": "ipython3",
   "version": "3.10.11"
  }
 },
 "nbformat": 4,
 "nbformat_minor": 5
}
