{
 "cells": [
  {
   "cell_type": "markdown",
   "id": "a61acf69",
   "metadata": {},
   "source": [
    "#### Contextual compressing retriever in langchain is an advanced retriever that improves retrieval quality by compressing documents after retrival -- keeping only relevant content based on the users query"
   ]
  },
  {
   "cell_type": "code",
   "execution_count": 1,
   "id": "95a8908e",
   "metadata": {},
   "outputs": [],
   "source": [
    "from langchain.retrievers.contextual_compression import ContextualCompressionRetriever\n",
    "from langchain_community.vectorstores import FAISS\n",
    "from langchain_openai import ChatOpenAI, OpenAIEmbeddings \n",
    "from langchain_core.documents import Document\n",
    "from langchain.retrievers.document_compressors import LLMChainExtractor"
   ]
  },
  {
   "cell_type": "code",
   "execution_count": 2,
   "id": "4caf81ee",
   "metadata": {},
   "outputs": [],
   "source": [
    "# document \n",
    "docs = [\n",
    "    Document(page_content=(\n",
    "        \"\"\"The Grand Canyon is one of the most visited natural wonders in the world.\n",
    "        Photosynthesis is the process by which green plants convert sunlight into energy.\n",
    "        Millions of tourists travel to see it every year. The rocks date back millions of years.\"\"\"\n",
    "    ), metadata={\"source\": \"Doc1\"}),\n",
    "\n",
    "    Document(page_content=(\n",
    "        \"\"\"In medieval Europe, castles were built primarily for defense.\n",
    "        The chlorophyll in plant cells captures sunlight during photosynthesis.\n",
    "        Knights wore armor made of metal. Siege weapons were often used to breach castle walls.\"\"\"\n",
    "    ), metadata={\"source\": \"Doc2\"}),\n",
    "\n",
    "    Document(page_content=(\n",
    "        \"\"\"Basketball was invented by Dr. James Naismith in the late 19th century.\n",
    "        It was originally played with a soccer ball and peach baskets. NBA is now a global league.\"\"\"\n",
    "    ), metadata={\"source\": \"Doc3\"}),\n",
    "\n",
    "    Document(page_content=(\n",
    "        \"\"\"The history of cinema began in the late 1800s. Silent films were the earliest form.\n",
    "        Thomas Edison was among the pioneers. Photosynthesis does not occur in animal cells.\n",
    "        Modern filmmaking involves complex CGI and sound design.\"\"\"\n",
    "    ), metadata={\"source\": \"Doc4\"})\n",
    "]"
   ]
  },
  {
   "cell_type": "code",
   "execution_count": 3,
   "id": "531f4975",
   "metadata": {},
   "outputs": [],
   "source": [
    "# Embedding model\n",
    "embedding_model = OpenAIEmbeddings()\n",
    "\n",
    "# Vector Store \n",
    "vector_store = FAISS.from_documents(\n",
    "    docs, embedding_model\n",
    ")"
   ]
  },
  {
   "cell_type": "code",
   "execution_count": 9,
   "id": "2507606e",
   "metadata": {},
   "outputs": [],
   "source": [
    "base_retriever = vector_store.as_retriever(search_kwargs = {'k': 5})"
   ]
  },
  {
   "cell_type": "code",
   "execution_count": 10,
   "id": "eb602e69",
   "metadata": {},
   "outputs": [],
   "source": [
    "# Compressor using LLM \n",
    "llm = ChatOpenAI(model = \"gpt-3.5-turbo\")\n",
    "\n",
    "compressor = LLMChainExtractor.from_llm(llm)"
   ]
  },
  {
   "cell_type": "code",
   "execution_count": 11,
   "id": "8a6a84cc",
   "metadata": {},
   "outputs": [],
   "source": [
    "# Contextual compression retriever \n",
    "compression_retriever = ContextualCompressionRetriever(\n",
    "    base_retriever=base_retriever, \n",
    "    base_compressor=compressor\n",
    ")"
   ]
  },
  {
   "cell_type": "code",
   "execution_count": 12,
   "id": "cf02d0b9",
   "metadata": {},
   "outputs": [],
   "source": [
    "query = \"What is photosynthesis ?\"\n",
    "compressed_result = compression_retriever.invoke(query)"
   ]
  },
  {
   "cell_type": "code",
   "execution_count": 14,
   "id": "a3692eae",
   "metadata": {},
   "outputs": [
    {
     "name": "stdout",
     "output_type": "stream",
     "text": [
      "\n",
      "=== Result 1 ===\n",
      "Photosynthesis is the process by which green plants convert sunlight into energy.\n",
      "\n",
      "=== Result 2 ===\n",
      "The chlorophyll in plant cells captures sunlight during photosynthesis.\n"
     ]
    }
   ],
   "source": [
    "for i, doc in enumerate(compressed_result):\n",
    "    print(f\"\\n=== Result {i + 1} ===\")\n",
    "    print(doc.page_content)"
   ]
  },
  {
   "cell_type": "code",
   "execution_count": null,
   "id": "513ddd7d",
   "metadata": {},
   "outputs": [],
   "source": []
  },
  {
   "cell_type": "code",
   "execution_count": null,
   "id": "654e4042",
   "metadata": {},
   "outputs": [],
   "source": []
  }
 ],
 "metadata": {
  "kernelspec": {
   "display_name": "venv",
   "language": "python",
   "name": "python3"
  },
  "language_info": {
   "codemirror_mode": {
    "name": "ipython",
    "version": 3
   },
   "file_extension": ".py",
   "mimetype": "text/x-python",
   "name": "python",
   "nbconvert_exporter": "python",
   "pygments_lexer": "ipython3",
   "version": "3.10.11"
  }
 },
 "nbformat": 4,
 "nbformat_minor": 5
}
