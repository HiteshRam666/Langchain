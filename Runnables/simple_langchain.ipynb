{
 "cells": [
  {
   "cell_type": "code",
   "execution_count": 3,
   "id": "d6b0c422",
   "metadata": {},
   "outputs": [],
   "source": [
    "import random \n",
    "class LLM:\n",
    "    def __init__(self):\n",
    "        print(\"LLM Created\")\n",
    "    \n",
    "    def predict(self, prompt):\n",
    "        response_list = [\n",
    "            'Delhi is the capital of india', \n",
    "            'IPL is the cricked league', \n",
    "            'AI stands for Artificial Intelligence'\n",
    "        ]\n",
    "\n",
    "        return {\"Response\": random.choice(response_list)}"
   ]
  },
  {
   "cell_type": "code",
   "execution_count": 9,
   "id": "50c7f07a",
   "metadata": {},
   "outputs": [],
   "source": [
    "class PromptTemplate:\n",
    "    def __init__(self, template, input_variable):\n",
    "        self.template = template \n",
    "        self.input_variable = input_variable \n",
    "    \n",
    "    def format(self, input_dict):\n",
    "        return self.template.format(**input_dict)"
   ]
  },
  {
   "cell_type": "code",
   "execution_count": 13,
   "id": "06a2ebc4",
   "metadata": {},
   "outputs": [],
   "source": [
    "temp = PromptTemplate(\n",
    "    template=\"Write a {length} poem about {topic}\", \n",
    "    input_variable=[\"length\", \"topic\"]\n",
    ")"
   ]
  },
  {
   "cell_type": "code",
   "execution_count": 15,
   "id": "db84b36a",
   "metadata": {},
   "outputs": [],
   "source": [
    "prompt = temp.format({\"length\": \"short\", \"topic\": \"space\"})"
   ]
  },
  {
   "cell_type": "code",
   "execution_count": 16,
   "id": "ba73007d",
   "metadata": {},
   "outputs": [
    {
     "name": "stdout",
     "output_type": "stream",
     "text": [
      "LLM Created\n"
     ]
    }
   ],
   "source": [
    "llm = LLM()"
   ]
  },
  {
   "cell_type": "code",
   "execution_count": 17,
   "id": "0c5c9a24",
   "metadata": {},
   "outputs": [
    {
     "data": {
      "text/plain": [
       "{'Response': 'Delhi is the capital of india'}"
      ]
     },
     "execution_count": 17,
     "metadata": {},
     "output_type": "execute_result"
    }
   ],
   "source": [
    "llm.predict(prompt)"
   ]
  },
  {
   "cell_type": "code",
   "execution_count": 25,
   "id": "e14dc095",
   "metadata": {},
   "outputs": [],
   "source": [
    "class Chains:\n",
    "    def __init__(self, prompt, llm):\n",
    "        self.llm = llm \n",
    "        self.prompt = prompt \n",
    "    \n",
    "    def run(self, input_dict):\n",
    "        final_prompt = self.prompt.format(input_dict)\n",
    "        result = self.llm.predict(final_prompt)\n",
    "\n",
    "        return result[\"Response\"]"
   ]
  },
  {
   "cell_type": "code",
   "execution_count": 26,
   "id": "2f99d398",
   "metadata": {},
   "outputs": [],
   "source": [
    "template = PromptTemplate(\n",
    "    template=\"Write a {length} poem about {topic}\", \n",
    "    input_variable=[\"length\", \"topic\"]\n",
    ")"
   ]
  },
  {
   "cell_type": "code",
   "execution_count": 27,
   "id": "873744c1",
   "metadata": {},
   "outputs": [
    {
     "name": "stdout",
     "output_type": "stream",
     "text": [
      "LLM Created\n"
     ]
    }
   ],
   "source": [
    "llm = LLM()"
   ]
  },
  {
   "cell_type": "code",
   "execution_count": 28,
   "id": "6675a962",
   "metadata": {},
   "outputs": [],
   "source": [
    "chain = Chains(llm=llm, prompt=template)"
   ]
  },
  {
   "cell_type": "code",
   "execution_count": 29,
   "id": "4e90dc46",
   "metadata": {},
   "outputs": [
    {
     "data": {
      "text/plain": [
       "'IPL is the cricked league'"
      ]
     },
     "execution_count": 29,
     "metadata": {},
     "output_type": "execute_result"
    }
   ],
   "source": [
    "chain.run({\"length\":\"short\", \"topic\": \"india\"})"
   ]
  },
  {
   "cell_type": "code",
   "execution_count": null,
   "id": "76ddd9fd",
   "metadata": {},
   "outputs": [],
   "source": []
  },
  {
   "cell_type": "code",
   "execution_count": null,
   "id": "c46cb183",
   "metadata": {},
   "outputs": [],
   "source": []
  }
 ],
 "metadata": {
  "kernelspec": {
   "display_name": "venv",
   "language": "python",
   "name": "python3"
  },
  "language_info": {
   "codemirror_mode": {
    "name": "ipython",
    "version": 3
   },
   "file_extension": ".py",
   "mimetype": "text/x-python",
   "name": "python",
   "nbconvert_exporter": "python",
   "pygments_lexer": "ipython3",
   "version": "3.10.11"
  }
 },
 "nbformat": 4,
 "nbformat_minor": 5
}
