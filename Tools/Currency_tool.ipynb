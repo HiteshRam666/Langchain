{
 "cells": [
  {
   "cell_type": "code",
   "execution_count": 1,
   "id": "3abb5eba",
   "metadata": {},
   "outputs": [
    {
     "data": {
      "text/plain": [
       "True"
      ]
     },
     "execution_count": 1,
     "metadata": {},
     "output_type": "execute_result"
    }
   ],
   "source": [
    "from langchain.tools import tool \n",
    "from langchain_openai import ChatOpenAI\n",
    "from langchain_core.messages import HumanMessage, AIMessage\n",
    "import requests \n",
    "from dotenv import load_dotenv\n",
    "load_dotenv()"
   ]
  },
  {
   "cell_type": "code",
   "execution_count": 2,
   "id": "903428a2",
   "metadata": {},
   "outputs": [],
   "source": [
    "# Tool Create \n",
    "from langchain_core.tools import InjectedToolArg \n",
    "from typing import Annotated \n",
    "\n",
    "@tool \n",
    "def get_conversion_factor(base_currency: str, target_currency: str) -> float:\n",
    "    \"\"\"This function fetches the currency conversion factor between a given base currency and target currency\"\"\"\n",
    "    url = f\"https://v6.exchangerate-api.com/v6/0c0ce63945d4b33b1e4326a8/pair/{base_currency}/{target_currency}\"\n",
    "\n",
    "    response = requests.get(url)\n",
    "    return response.json()\n",
    "\n",
    "@tool\n",
    "def convert(base_currency_value: int, conversion_rate: Annotated[float, InjectedToolArg]) -> float:\n",
    "    \"\"\"Given a currency conversion rate this function calculates the target currency value from a given base currency value\"\"\"\n",
    "    return base_currency_value * conversion_rate"
   ]
  },
  {
   "cell_type": "code",
   "execution_count": 3,
   "id": "61a60956",
   "metadata": {},
   "outputs": [
    {
     "data": {
      "text/plain": [
       "{'result': 'success',\n",
       " 'documentation': 'https://www.exchangerate-api.com/docs',\n",
       " 'terms_of_use': 'https://www.exchangerate-api.com/terms',\n",
       " 'time_last_update_unix': 1752883201,\n",
       " 'time_last_update_utc': 'Sat, 19 Jul 2025 00:00:01 +0000',\n",
       " 'time_next_update_unix': 1752969601,\n",
       " 'time_next_update_utc': 'Sun, 20 Jul 2025 00:00:01 +0000',\n",
       " 'base_code': 'USD',\n",
       " 'target_code': 'INR',\n",
       " 'conversion_rate': 86.1694}"
      ]
     },
     "execution_count": 3,
     "metadata": {},
     "output_type": "execute_result"
    }
   ],
   "source": [
    "get_conversion_factor.invoke({'base_currency':'USD', 'target_currency':'INR'})"
   ]
  },
  {
   "cell_type": "code",
   "execution_count": 4,
   "id": "668fec22",
   "metadata": {},
   "outputs": [
    {
     "data": {
      "text/plain": [
       "861.694"
      ]
     },
     "execution_count": 4,
     "metadata": {},
     "output_type": "execute_result"
    }
   ],
   "source": [
    "convert.invoke({'base_currency_value':10, 'conversion_rate': 86.1694})"
   ]
  },
  {
   "cell_type": "markdown",
   "id": "2675fa1f",
   "metadata": {},
   "source": [
    "#### **Tool Binding**"
   ]
  },
  {
   "cell_type": "code",
   "execution_count": 5,
   "id": "ba9df9e4",
   "metadata": {},
   "outputs": [],
   "source": [
    "llm = ChatOpenAI()\n",
    "\n",
    "llm_with_tools = llm.bind_tools([get_conversion_factor, convert])"
   ]
  },
  {
   "cell_type": "markdown",
   "id": "6e7189bf",
   "metadata": {},
   "source": [
    "#### **Tool Calling**"
   ]
  },
  {
   "cell_type": "code",
   "execution_count": 15,
   "id": "bf6e3642",
   "metadata": {},
   "outputs": [
    {
     "data": {
      "text/plain": [
       "[HumanMessage(content='What is the conversion factor of USD and INR, and based on that convert 500 USD to INR', additional_kwargs={}, response_metadata={})]"
      ]
     },
     "execution_count": 15,
     "metadata": {},
     "output_type": "execute_result"
    }
   ],
   "source": [
    "messages = [HumanMessage(\"What is the conversion factor of USD and INR, and based on that convert 500 USD to INR\")]\n",
    "messages"
   ]
  },
  {
   "cell_type": "code",
   "execution_count": 16,
   "id": "f57e6bda",
   "metadata": {},
   "outputs": [],
   "source": [
    "ai_message = llm_with_tools.invoke(messages)"
   ]
  },
  {
   "cell_type": "code",
   "execution_count": 17,
   "id": "a5a5f489",
   "metadata": {},
   "outputs": [
    {
     "data": {
      "text/plain": [
       "[{'name': 'get_conversion_factor',\n",
       "  'args': {'base_currency': 'USD', 'target_currency': 'INR'},\n",
       "  'id': 'call_0ltS2YggKPosCwZEAdXdksK9',\n",
       "  'type': 'tool_call'},\n",
       " {'name': 'convert',\n",
       "  'args': {'base_currency_value': 500},\n",
       "  'id': 'call_qNIkJOGTf0N6jO0hRdCv6y5O',\n",
       "  'type': 'tool_call'}]"
      ]
     },
     "execution_count": 17,
     "metadata": {},
     "output_type": "execute_result"
    }
   ],
   "source": [
    "ai_message.tool_calls"
   ]
  },
  {
   "cell_type": "code",
   "execution_count": 18,
   "id": "7fb0e59b",
   "metadata": {},
   "outputs": [],
   "source": [
    "messages.append(ai_message)"
   ]
  },
  {
   "cell_type": "code",
   "execution_count": 19,
   "id": "faee6cb1",
   "metadata": {},
   "outputs": [],
   "source": [
    "import json \n",
    "\n",
    "for tool_call in ai_message.tool_calls:\n",
    "    # Execute the 1st tool and get value of conversion rate\n",
    "    if tool_call['name'] == \"get_conversion_factor\":\n",
    "        tool_message1 = get_conversion_factor.invoke(tool_call)\n",
    "        # print(tool_message1)\n",
    "        # Fetch the conversion rate \n",
    "        conversion_rate = json.loads(tool_message1.content)[\"conversion_rate\"]\n",
    "\n",
    "        # Append this tool message to messages list\n",
    "        messages.append(tool_message1)\n",
    "\n",
    "    # Execute the 2nd tool using the conversion rate from tool 1\n",
    "    if tool_call[\"name\"] == \"convert\":\n",
    "        # Fetch the current argument\n",
    "        tool_call[\"args\"][\"conversion_rate\"] = conversion_rate\n",
    "\n",
    "        tool_message2 = convert.invoke(tool_call)\n",
    "        messages.append(tool_message2)"
   ]
  },
  {
   "cell_type": "code",
   "execution_count": 20,
   "id": "0cc8f9fa",
   "metadata": {},
   "outputs": [
    {
     "data": {
      "text/plain": [
       "[HumanMessage(content='What is the conversion factor of USD and INR, and based on that convert 500 USD to INR', additional_kwargs={}, response_metadata={}),\n",
       " AIMessage(content='', additional_kwargs={'tool_calls': [{'id': 'call_0ltS2YggKPosCwZEAdXdksK9', 'function': {'arguments': '{\"base_currency\": \"USD\", \"target_currency\": \"INR\"}', 'name': 'get_conversion_factor'}, 'type': 'function'}, {'id': 'call_qNIkJOGTf0N6jO0hRdCv6y5O', 'function': {'arguments': '{\"base_currency_value\": 500}', 'name': 'convert'}, 'type': 'function'}], 'refusal': None}, response_metadata={'token_usage': {'completion_tokens': 52, 'prompt_tokens': 119, 'total_tokens': 171, 'completion_tokens_details': {'accepted_prediction_tokens': 0, 'audio_tokens': 0, 'reasoning_tokens': 0, 'rejected_prediction_tokens': 0}, 'prompt_tokens_details': {'audio_tokens': 0, 'cached_tokens': 0}}, 'model_name': 'gpt-3.5-turbo-0125', 'system_fingerprint': None, 'id': 'chatcmpl-Bv4VCoK3agCWbC1oMRcYsbmTICngv', 'service_tier': 'default', 'finish_reason': 'tool_calls', 'logprobs': None}, id='run--b8205109-9cd4-4858-a05a-f586ac2803d5-0', tool_calls=[{'name': 'get_conversion_factor', 'args': {'base_currency': 'USD', 'target_currency': 'INR'}, 'id': 'call_0ltS2YggKPosCwZEAdXdksK9', 'type': 'tool_call'}, {'name': 'convert', 'args': {'base_currency_value': 500, 'conversion_rate': 86.1694}, 'id': 'call_qNIkJOGTf0N6jO0hRdCv6y5O', 'type': 'tool_call'}], usage_metadata={'input_tokens': 119, 'output_tokens': 52, 'total_tokens': 171, 'input_token_details': {'audio': 0, 'cache_read': 0}, 'output_token_details': {'audio': 0, 'reasoning': 0}}),\n",
       " ToolMessage(content='{\"result\": \"success\", \"documentation\": \"https://www.exchangerate-api.com/docs\", \"terms_of_use\": \"https://www.exchangerate-api.com/terms\", \"time_last_update_unix\": 1752883201, \"time_last_update_utc\": \"Sat, 19 Jul 2025 00:00:01 +0000\", \"time_next_update_unix\": 1752969601, \"time_next_update_utc\": \"Sun, 20 Jul 2025 00:00:01 +0000\", \"base_code\": \"USD\", \"target_code\": \"INR\", \"conversion_rate\": 86.1694}', name='get_conversion_factor', tool_call_id='call_0ltS2YggKPosCwZEAdXdksK9'),\n",
       " ToolMessage(content='43084.7', name='convert', tool_call_id='call_qNIkJOGTf0N6jO0hRdCv6y5O')]"
      ]
     },
     "execution_count": 20,
     "metadata": {},
     "output_type": "execute_result"
    }
   ],
   "source": [
    "messages"
   ]
  },
  {
   "cell_type": "code",
   "execution_count": 21,
   "id": "adac8c7a",
   "metadata": {},
   "outputs": [
    {
     "name": "stdout",
     "output_type": "stream",
     "text": [
      "The conversion factor from USD to INR is 86.1694. \n",
      "\n",
      "Based on this, converting 500 USD to INR gives 43,084.7 INR.\n"
     ]
    }
   ],
   "source": [
    "print(llm_with_tools.invoke(messages).content)"
   ]
  },
  {
   "cell_type": "code",
   "execution_count": null,
   "id": "238f4ed4",
   "metadata": {},
   "outputs": [],
   "source": []
  },
  {
   "cell_type": "code",
   "execution_count": null,
   "id": "80570566",
   "metadata": {},
   "outputs": [],
   "source": []
  }
 ],
 "metadata": {
  "kernelspec": {
   "display_name": "venv",
   "language": "python",
   "name": "python3"
  },
  "language_info": {
   "codemirror_mode": {
    "name": "ipython",
    "version": 3
   },
   "file_extension": ".py",
   "mimetype": "text/x-python",
   "name": "python",
   "nbconvert_exporter": "python",
   "pygments_lexer": "ipython3",
   "version": "3.10.11"
  }
 },
 "nbformat": 4,
 "nbformat_minor": 5
}
