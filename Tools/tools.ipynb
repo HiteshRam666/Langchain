{
 "cells": [
  {
   "cell_type": "markdown",
   "id": "03a20d13",
   "metadata": {},
   "source": [
    "#### **DuckDuckGo**"
   ]
  },
  {
   "cell_type": "code",
   "execution_count": 10,
   "id": "73136ce6",
   "metadata": {},
   "outputs": [
    {
     "name": "stderr",
     "output_type": "stream",
     "text": [
      "c:\\Users\\hites\\OneDrive\\Desktop\\Langchain\\venv\\lib\\site-packages\\langchain_community\\utilities\\duckduckgo_search.py:63: RuntimeWarning: This package (`duckduckgo_search`) has been renamed to `ddgs`! Use `pip install ddgs` instead.\n",
      "  with DDGS() as ddgs:\n"
     ]
    },
    {
     "name": "stdout",
     "output_type": "stream",
     "text": [
      "Jun 6, 2025 · Our solar system includes the Sun, eight planets, five officially named dwarf planets, hundreds of moons, and … 2 days ago · Solar system, assemblage consisting of the Sun and those bodies orbiting it: 8 planets with more than 400 … Mar 29, 2025 · Learn about the Sun and the celestial bodies that orbit it, including planets, moons, dwarf planets, and more. Find out how the Solar System formed, its main regions, and its characteristics. Everything else in the Solar System moves around the Sun. The Solar System formed about 4.6 billion years ago when a giant … May 2, 2025 · Discover the order of planets in the solar system. From Mercury to Neptune, explore our solar system and …\n"
     ]
    }
   ],
   "source": [
    "from langchain_community.tools import DuckDuckGoSearchRun\n",
    "\n",
    "search_tool = DuckDuckGoSearchRun()\n",
    "\n",
    "results = search_tool.invoke(\"Solar system\")\n",
    "\n",
    "print(results)"
   ]
  },
  {
   "cell_type": "markdown",
   "id": "020e28d7",
   "metadata": {},
   "source": [
    "#### **Shell Tool**"
   ]
  },
  {
   "cell_type": "code",
   "execution_count": 12,
   "id": "fd1bf1ef",
   "metadata": {},
   "outputs": [
    {
     "name": "stdout",
     "output_type": "stream",
     "text": [
      "Executing command:\n",
      " whoami\n",
      "desktop-kdboe4q\\hites\n",
      "\n"
     ]
    },
    {
     "name": "stderr",
     "output_type": "stream",
     "text": [
      "c:\\Users\\hites\\OneDrive\\Desktop\\Langchain\\venv\\lib\\site-packages\\langchain_community\\tools\\shell\\tool.py:33: UserWarning: The shell tool has no safeguards by default. Use at your own risk.\n",
      "  warnings.warn(\n"
     ]
    }
   ],
   "source": [
    "from langchain_community.tools import ShellTool\n",
    "\n",
    "shell_tool = ShellTool()\n",
    "\n",
    "results = shell_tool.invoke(\"whoami\")\n",
    "print(results)"
   ]
  },
  {
   "cell_type": "markdown",
   "id": "15ae9442",
   "metadata": {},
   "source": [
    "### **Custom Tool**"
   ]
  },
  {
   "cell_type": "code",
   "execution_count": 13,
   "id": "76954999",
   "metadata": {},
   "outputs": [],
   "source": [
    "from langchain_community.tools import tool\n",
    "\n",
    "@tool \n",
    "def multiply(a: int, b: int) -> int:\n",
    "    \"Multiply two numbers\"\n",
    "    return a * b"
   ]
  },
  {
   "cell_type": "code",
   "execution_count": 14,
   "id": "7b8342c3",
   "metadata": {},
   "outputs": [],
   "source": [
    "result = multiply.invoke({'a': 2, 'b': 4})"
   ]
  },
  {
   "cell_type": "code",
   "execution_count": 16,
   "id": "8774c2d8",
   "metadata": {},
   "outputs": [
    {
     "name": "stdout",
     "output_type": "stream",
     "text": [
      "8\n"
     ]
    }
   ],
   "source": [
    "print(result)"
   ]
  },
  {
   "cell_type": "code",
   "execution_count": 17,
   "id": "31650476",
   "metadata": {},
   "outputs": [
    {
     "name": "stdout",
     "output_type": "stream",
     "text": [
      "multiply\n",
      "Multiply two numbers\n",
      "{'a': {'title': 'A', 'type': 'integer'}, 'b': {'title': 'B', 'type': 'integer'}}\n"
     ]
    }
   ],
   "source": [
    "print(multiply.name) \n",
    "print(multiply.description) \n",
    "print(multiply.args) "
   ]
  },
  {
   "cell_type": "code",
   "execution_count": 19,
   "id": "36676699",
   "metadata": {},
   "outputs": [
    {
     "name": "stdout",
     "output_type": "stream",
     "text": [
      "{'description': 'Multiply two numbers', 'properties': {'a': {'title': 'A', 'type': 'integer'}, 'b': {'title': 'B', 'type': 'integer'}}, 'required': ['a', 'b'], 'title': 'multiply', 'type': 'object'}\n"
     ]
    }
   ],
   "source": [
    "print(multiply.args_schema.model_json_schema())"
   ]
  },
  {
   "cell_type": "markdown",
   "id": "34a8970c",
   "metadata": {},
   "source": [
    "#### **Structured Custom Tool using Pydantic** "
   ]
  },
  {
   "cell_type": "code",
   "execution_count": 20,
   "id": "1faf4c29",
   "metadata": {},
   "outputs": [],
   "source": [
    "from pydantic import BaseModel, Field\n",
    "from langchain.tools import StructuredTool"
   ]
  },
  {
   "cell_type": "code",
   "execution_count": 29,
   "id": "ffdd1499",
   "metadata": {},
   "outputs": [],
   "source": [
    "class MultiplyInput(BaseModel):\n",
    "    a: int = Field(..., description=\"The first number to add\")\n",
    "    b: int = Field(..., description=\"The second number to add\")"
   ]
  },
  {
   "cell_type": "code",
   "execution_count": 30,
   "id": "e242c1ff",
   "metadata": {},
   "outputs": [],
   "source": [
    "def multiply_func(a: int, b: int) -> int:\n",
    "    return a * b"
   ]
  },
  {
   "cell_type": "code",
   "execution_count": 31,
   "id": "20d727de",
   "metadata": {},
   "outputs": [],
   "source": [
    "multiply_tool = StructuredTool.from_function(\n",
    "    func=multiply_func, \n",
    "    name = \"multiply\", \n",
    "    description=\"Multiply two numbers\", \n",
    "    args_schema=MultiplyInput  \n",
    ")"
   ]
  },
  {
   "cell_type": "code",
   "execution_count": 32,
   "id": "1ef5a58f",
   "metadata": {},
   "outputs": [
    {
     "name": "stdout",
     "output_type": "stream",
     "text": [
      "8\n"
     ]
    }
   ],
   "source": [
    "result = multiply_tool.invoke({'a': 2, 'b': 4})\n",
    "print(result)"
   ]
  },
  {
   "cell_type": "code",
   "execution_count": 33,
   "id": "d72353b3",
   "metadata": {},
   "outputs": [
    {
     "name": "stdout",
     "output_type": "stream",
     "text": [
      "multiply\n",
      "Multiply two numbers\n",
      "{'a': {'description': 'The first number to add', 'title': 'A', 'type': 'integer'}, 'b': {'description': 'The second number to add', 'title': 'B', 'type': 'integer'}}\n"
     ]
    }
   ],
   "source": [
    "print(multiply_tool.name) \n",
    "print(multiply_tool.description) \n",
    "print(multiply_tool.args) "
   ]
  },
  {
   "cell_type": "markdown",
   "id": "dc7c3b73",
   "metadata": {},
   "source": [
    "#### **Custom tool using BaseTool**"
   ]
  },
  {
   "cell_type": "code",
   "execution_count": 27,
   "id": "9582afc2",
   "metadata": {},
   "outputs": [],
   "source": [
    "from langchain.tools import BaseTool \n",
    "from typing import Type "
   ]
  },
  {
   "cell_type": "code",
   "execution_count": null,
   "id": "d3195c7d",
   "metadata": {},
   "outputs": [],
   "source": [
    "# Arg schema using Pydantic \n",
    "class MultiInput(BaseModel):\n",
    "    a: int = Field(..., description=\"The first number to add\")\n",
    "    b: int = Field(..., description=\"The second number to add\")"
   ]
  },
  {
   "cell_type": "code",
   "execution_count": 37,
   "id": "25f8eee0",
   "metadata": {},
   "outputs": [],
   "source": [
    "class Multiply_tool(BaseTool):\n",
    "    name: str = \"Multiply\"\n",
    "    description: str = \"Multiply two numbers\"\n",
    "    args_schema: Type[BaseModel] = MultiInput\n",
    "\n",
    "    def _run(self, a: int, b: int) -> int:\n",
    "        return a * b"
   ]
  },
  {
   "cell_type": "code",
   "execution_count": 38,
   "id": "0d760e50",
   "metadata": {},
   "outputs": [],
   "source": [
    "multiply_tool = Multiply_tool()"
   ]
  },
  {
   "cell_type": "code",
   "execution_count": 39,
   "id": "4ca67b6d",
   "metadata": {},
   "outputs": [],
   "source": [
    "result = multiply_tool.invoke({'a': 2, 'b': 20})"
   ]
  },
  {
   "cell_type": "code",
   "execution_count": 40,
   "id": "e511ff09",
   "metadata": {},
   "outputs": [
    {
     "data": {
      "text/plain": [
       "40"
      ]
     },
     "execution_count": 40,
     "metadata": {},
     "output_type": "execute_result"
    }
   ],
   "source": [
    "result"
   ]
  },
  {
   "cell_type": "markdown",
   "id": "de32e80e",
   "metadata": {},
   "source": [
    "### **Toolkit**"
   ]
  },
  {
   "cell_type": "code",
   "execution_count": 41,
   "id": "893b9c3f",
   "metadata": {},
   "outputs": [],
   "source": [
    "@tool \n",
    "def multiply(a: int, b: int) -> int:\n",
    "    \"Multiply two numbers\"\n",
    "    return a * b\n",
    "\n",
    "@tool \n",
    "def add(a: int, b: int) -> int:\n",
    "    \"Add two numbers\"\n",
    "    return a + b"
   ]
  },
  {
   "cell_type": "code",
   "execution_count": 42,
   "id": "1c842adf",
   "metadata": {},
   "outputs": [],
   "source": [
    "class MultiToolKit:\n",
    "    def get_tools(self):\n",
    "        return [multiply, add] "
   ]
  },
  {
   "cell_type": "code",
   "execution_count": 43,
   "id": "57d9323e",
   "metadata": {},
   "outputs": [
    {
     "name": "stdout",
     "output_type": "stream",
     "text": [
      "multiply => Multiply two numbers\n",
      "add => Add two numbers\n"
     ]
    }
   ],
   "source": [
    "toolkit = MultiToolKit() \n",
    "tools = toolkit.get_tools()\n",
    "\n",
    "for tool in tools:\n",
    "    print(tool.name, \"=>\", tool.description)"
   ]
  },
  {
   "cell_type": "code",
   "execution_count": null,
   "id": "c9cf0d34",
   "metadata": {},
   "outputs": [],
   "source": []
  }
 ],
 "metadata": {
  "kernelspec": {
   "display_name": "venv",
   "language": "python",
   "name": "python3"
  },
  "language_info": {
   "codemirror_mode": {
    "name": "ipython",
    "version": 3
   },
   "file_extension": ".py",
   "mimetype": "text/x-python",
   "name": "python",
   "nbconvert_exporter": "python",
   "pygments_lexer": "ipython3",
   "version": "3.10.11"
  }
 },
 "nbformat": 4,
 "nbformat_minor": 5
}
