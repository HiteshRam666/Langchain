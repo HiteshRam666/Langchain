{
 "cells": [
  {
   "cell_type": "markdown",
   "id": "253f6c63",
   "metadata": {},
   "source": [
    "### **Internet search Agent**"
   ]
  },
  {
   "cell_type": "code",
   "execution_count": 9,
   "id": "644052af",
   "metadata": {},
   "outputs": [
    {
     "data": {
      "text/plain": [
       "True"
      ]
     },
     "execution_count": 9,
     "metadata": {},
     "output_type": "execute_result"
    }
   ],
   "source": [
    "import os\n",
    "from dotenv import load_dotenv \n",
    "from langchain_openai import ChatOpenAI \n",
    "from langchain_core.tools import tool \n",
    "import requests \n",
    "from langchain_community.tools import DuckDuckGoSearchRun\n",
    "load_dotenv()"
   ]
  },
  {
   "cell_type": "code",
   "execution_count": 21,
   "id": "ae3a9906",
   "metadata": {},
   "outputs": [],
   "source": [
    "llm = ChatOpenAI() "
   ]
  },
  {
   "cell_type": "code",
   "execution_count": 68,
   "id": "ba953845",
   "metadata": {},
   "outputs": [],
   "source": [
    "search_tool = DuckDuckGoSearchRun() # Deprecated"
   ]
  },
  {
   "cell_type": "code",
   "execution_count": 54,
   "id": "7e0cd044",
   "metadata": {},
   "outputs": [
    {
     "name": "stdout",
     "output_type": "stream",
     "text": [
      "War News Today USA: A Current Update on the Latest Developments - Football Formation\n",
      "Warnews is more than just headlines; it's a lens through which we understand the world's most pressing issues. Whether it's domestic conflict or in ... WarNews Today USA: A Current Update on the Latest Developments ... From the battlefield to the media landscape, it’s clear that war will remain a central issue in global and national discourse. Understanding the impact of warnews, both domestic and international, is essential for shaping future policies and responses to conflict.\n",
      "https://football-formation.com/war-news-today-usa-a-current-update-on-the-latest-developments/\n",
      "\n",
      "================\n",
      "\n",
      "Ground News\n",
      "Stay current with all the latest and breaking news about War , compare headlines and perspectives between news sources on stories happening today. In total, 3,159 stories have been published about War which Ground News has aggregated in the past 3 months. ... MOSCOW (Reuters) – The Kremlin on Wednesday criticised comments by French President Emmanuel Macron that Paris is open to deploying nuclear-armed warplanes in other European countries, saying it would not enhance the continent’s ...\n",
      "https://ground.news/interest/war\n",
      "\n",
      "================\n",
      "\n",
      "War News Today USA: Key Updates and Insights - Pets Hub\n",
      "The landscape of war today is complex, with various conflicts entangling nations, ideologies, and people. So what are the major conflicts the USA is ... Some Americans support military action, believing it’s a necessary measure to protect national interests, while others advocate for diplomacy over warfare. ... In the whirlwind of warnews, it’s easy to feel overwhelmed. ... Previous Latest WarNews Today: Key Updates on U.S.\n",
      "https://www.petshub.xyz/war-news-today-usa-key-updates-and-insights/\n",
      "\n",
      "================\n",
      "\n"
     ]
    }
   ],
   "source": [
    "from ddgs import DDGS\n",
    "\n",
    "ddgs = DDGS()\n",
    "results = ddgs.text(query=\"Russia latest news related to war\", max_results = 3)\n",
    "\n",
    "\n",
    "with DDGS() as ddgs:\n",
    "    results = ddgs.text(query=\"Current news related to war\", max_results = 3)\n",
    "    for result in results:\n",
    "        print(result[\"title\"])\n",
    "        print(result[\"body\"])\n",
    "        print(result[\"href\"])\n",
    "        print(\"\\n================\\n\")"
   ]
  },
  {
   "cell_type": "markdown",
   "id": "20eccac5",
   "metadata": {},
   "source": [
    "#### **Creating custom search tool using DDGS**"
   ]
  },
  {
   "cell_type": "code",
   "execution_count": 69,
   "id": "4913ddcf",
   "metadata": {},
   "outputs": [],
   "source": [
    "@tool \n",
    "def search_web(query: str) -> str:\n",
    "    \"\"\"\n",
    "    Search the web for current information using DDGS.\n",
    "    Use this tool when you need to find recent information about any topic.\n",
    "    \"\"\"\n",
    "    with DDGS() as ddgs:\n",
    "        try:\n",
    "            results = ddgs.text(query = query, max_results = 3)\n",
    "            formated_query = []\n",
    "            for result in results:\n",
    "                formated_query.append(f\"Title: {result['title']}\\nContent: {result['body']}\\nURL: {result['href']}\")\n",
    "                return \"\\n\\n\".join(formated_query)\n",
    "        except Exception as e:\n",
    "            return f\"Error Searching: {str(e)}\""
   ]
  },
  {
   "cell_type": "code",
   "execution_count": 70,
   "id": "d9fd53d0",
   "metadata": {},
   "outputs": [],
   "source": [
    "search_tool = search_web"
   ]
  },
  {
   "cell_type": "code",
   "execution_count": 72,
   "id": "964f5c82",
   "metadata": {},
   "outputs": [
    {
     "name": "stdout",
     "output_type": "stream",
     "text": [
      "Title: 25 Passive Income Ideas To Make Extra Money In 2025 | Bankrate\n",
      "Content: Passive income can be a great way to generate extra cash flow and build financial security. Here are 25 passive income ideas to get you started.\n",
      "URL: https://www.bankrate.com/investing/passive-income-ideas/\n"
     ]
    }
   ],
   "source": [
    "print(search_tool.invoke(\"What is best source of income\"))"
   ]
  },
  {
   "cell_type": "code",
   "execution_count": 73,
   "id": "a6f49394",
   "metadata": {},
   "outputs": [],
   "source": [
    "from langchain.agents import create_react_agent, AgentExecutor\n",
    "from langchain import hub"
   ]
  },
  {
   "cell_type": "code",
   "execution_count": 74,
   "id": "92c1fdc1",
   "metadata": {},
   "outputs": [
    {
     "name": "stderr",
     "output_type": "stream",
     "text": [
      "c:\\Users\\hites\\OneDrive\\Desktop\\Langchain\\venv\\lib\\site-packages\\langsmith\\client.py:272: LangSmithMissingAPIKeyWarning: API key must be provided when using hosted LangSmith API\n",
      "  warnings.warn(\n"
     ]
    }
   ],
   "source": [
    "# Pulling langchain React prompt \n",
    "prompt = hub.pull(\"hwchase17/react\")"
   ]
  },
  {
   "cell_type": "code",
   "execution_count": 75,
   "id": "369aef67",
   "metadata": {},
   "outputs": [],
   "source": [
    "# Create react agent manually with pulled prompt\n",
    "agent = create_react_agent(\n",
    "    llm=llm, \n",
    "    tools = [search_tool], \n",
    "    prompt = prompt\n",
    ")"
   ]
  },
  {
   "cell_type": "code",
   "execution_count": 76,
   "id": "f15d30e8",
   "metadata": {},
   "outputs": [],
   "source": [
    "# Wrap it with AgentExecutor\n",
    "agent_executor = AgentExecutor(\n",
    "    agent=agent, \n",
    "    tools = [search_tool], \n",
    "    verbose=True\n",
    ")"
   ]
  },
  {
   "cell_type": "code",
   "execution_count": 77,
   "id": "c9d51e33",
   "metadata": {},
   "outputs": [
    {
     "name": "stdout",
     "output_type": "stream",
     "text": [
      "\n",
      "\n",
      "\u001b[1m> Entering new AgentExecutor chain...\u001b[0m\n",
      "\u001b[32;1m\u001b[1;3mIt would be best to search online for the most current and efficient way to reach New York from Mumbai.\n",
      "Action: search_web\n",
      "Action Input: \"best way to reach New York from Mumbai\"\u001b[0m\u001b[36;1m\u001b[1;3mTitle: Mumbai to Newyork - 8 ways to travel via train, plane, and ...\n",
      "Content: What is the fastest way to get from Mumbai to Newyork? The fastest way to get from Mumbai to Newyork is to fly and bus which takes 19h 11m and costs £310 - £550 ...\n",
      "URL: https://www.rome2rio.com/s/Mumbai/Newyork\u001b[0m\u001b[32;1m\u001b[1;3mBased on the search results, flying and taking a bus seems to be the fastest way to reach New York from Mumbai.\n",
      "Final Answer: The best way to reach New York from Mumbai is to fly and take a bus.\u001b[0m\n",
      "\n",
      "\u001b[1m> Finished chain.\u001b[0m\n",
      "{'input': 'Best way to reach new york from mumbai', 'output': 'The best way to reach New York from Mumbai is to fly and take a bus.'}\n"
     ]
    }
   ],
   "source": [
    "# Invoke\n",
    "response = agent_executor.invoke({\"input\": \"Best way to reach new york from mumbai\"})\n",
    "print(response)"
   ]
  },
  {
   "cell_type": "code",
   "execution_count": 78,
   "id": "936112e8",
   "metadata": {},
   "outputs": [
    {
     "data": {
      "text/plain": [
       "'The best way to reach New York from Mumbai is to fly and take a bus.'"
      ]
     },
     "execution_count": 78,
     "metadata": {},
     "output_type": "execute_result"
    }
   ],
   "source": [
    "response['output']"
   ]
  },
  {
   "cell_type": "code",
   "execution_count": 79,
   "id": "760ed6cb",
   "metadata": {},
   "outputs": [
    {
     "data": {
      "text/plain": [
       "'Best way to reach new york from mumbai'"
      ]
     },
     "execution_count": 79,
     "metadata": {},
     "output_type": "execute_result"
    }
   ],
   "source": [
    "response[\"input\"]"
   ]
  },
  {
   "cell_type": "markdown",
   "id": "f7350ff0",
   "metadata": {},
   "source": [
    "#### **Weather Agent**"
   ]
  },
  {
   "cell_type": "code",
   "execution_count": 81,
   "id": "f999e846",
   "metadata": {},
   "outputs": [],
   "source": [
    "import os\n",
    "import requests\n",
    "\n",
    "@tool \n",
    "def get_weather(city: str) -> str:\n",
    "    \"\"\"\n",
    "    This function fetches the current weather data for a given city\n",
    "    \"\"\"\n",
    "    url = f'https://api.weatherstack.com/current?access_key=096476fdc03f5b6daff559ed0a676e31&query={city}'\n",
    "    response = requests.get(url)\n",
    "\n",
    "    return response.json()"
   ]
  },
  {
   "cell_type": "code",
   "execution_count": 83,
   "id": "576d8ff7",
   "metadata": {},
   "outputs": [],
   "source": [
    "llm = ChatOpenAI()"
   ]
  },
  {
   "cell_type": "code",
   "execution_count": 84,
   "id": "42bd8761",
   "metadata": {},
   "outputs": [
    {
     "name": "stderr",
     "output_type": "stream",
     "text": [
      "c:\\Users\\hites\\OneDrive\\Desktop\\Langchain\\venv\\lib\\site-packages\\langsmith\\client.py:272: LangSmithMissingAPIKeyWarning: API key must be provided when using hosted LangSmith API\n",
      "  warnings.warn(\n"
     ]
    }
   ],
   "source": [
    "# Prompt from hub \n",
    "prompt = hub.pull(\"hwchase17/react\")"
   ]
  },
  {
   "cell_type": "code",
   "execution_count": 87,
   "id": "2f71d141",
   "metadata": {},
   "outputs": [],
   "source": [
    "# Create React agent manually using pulled prompt\n",
    "agent = create_react_agent(\n",
    "    llm=llm, \n",
    "    prompt=prompt, \n",
    "    tools=[search_tool, get_weather], \n",
    ")"
   ]
  },
  {
   "cell_type": "code",
   "execution_count": 88,
   "id": "9174be04",
   "metadata": {},
   "outputs": [],
   "source": [
    "# Agent Executor wrapper \n",
    "agent_executor = AgentExecutor(\n",
    "    agent=agent, \n",
    "    tools = [search_tool, get_weather], \n",
    "    verbose=True\n",
    ")"
   ]
  },
  {
   "cell_type": "code",
   "execution_count": 91,
   "id": "48330388",
   "metadata": {},
   "outputs": [
    {
     "name": "stdout",
     "output_type": "stream",
     "text": [
      "\n",
      "\n",
      "\u001b[1m> Entering new AgentExecutor chain...\u001b[0m\n",
      "\u001b[32;1m\u001b[1;3mI should search for the capital of Maharashtra and then get the current weather data for that city.\n",
      "Action: search_web\n",
      "Action Input: Capital of Maharashtra\u001b[0m\u001b[36;1m\u001b[1;3mTitle: Capital of Maharashtra\n",
      "Content: Capital of Maharashtra may refer to: Mumbai, summer capital of Maharashtra - Largest City in Maharashtra Nagpur, winter capital of Maharashtra - Third largest city in Maharashtra\n",
      "URL: https://en.wikipedia.org/wiki/Capital_of_Maharashtra\u001b[0m\u001b[32;1m\u001b[1;3mI now need to check the current weather condition for Mumbai and Nagpur\n",
      "Action: get_weather\n",
      "Action Input: Mumbai\u001b[0m\u001b[33;1m\u001b[1;3m{'request': {'type': 'City', 'query': 'Mumbai, India', 'language': 'en', 'unit': 'm'}, 'location': {'name': 'Mumbai', 'country': 'India', 'region': 'Maharashtra', 'lat': '18.975', 'lon': '72.826', 'timezone_id': 'Asia/Kolkata', 'localtime': '2025-07-20 10:11', 'localtime_epoch': 1753006260, 'utc_offset': '5.50'}, 'current': {'observation_time': '04:41 AM', 'temperature': 29, 'weather_code': 143, 'weather_icons': ['https://cdn.worldweatheronline.com/images/wsymbols01_png_64/wsymbol_0006_mist.png'], 'weather_descriptions': ['Haze'], 'astro': {'sunrise': '06:11 AM', 'sunset': '07:19 PM', 'moonrise': '01:26 AM', 'moonset': '03:06 PM', 'moon_phase': 'Waning Crescent', 'moon_illumination': 28}, 'air_quality': {'co': '201.65', 'no2': '9.99', 'o3': '49', 'so2': '8.325', 'pm2_5': '27.01', 'pm10': '69.745', 'us-epa-index': '2', 'gb-defra-index': '2'}, 'wind_speed': 17, 'wind_degree': 220, 'wind_dir': 'SW', 'pressure': 1002, 'precip': 0.1, 'humidity': 79, 'cloudcover': 50, 'feelslike': 35, 'uv_index': 8, 'visibility': 4, 'is_day': 'yes'}}\u001b[0m\u001b[32;1m\u001b[1;3mI need to find the weather condition for Nagpur now.\n",
      "Action: get_weather\n",
      "Action Input: Nagpur\u001b[0m\u001b[33;1m\u001b[1;3m{'request': {'type': 'City', 'query': 'Nagpur, India', 'language': 'en', 'unit': 'm'}, 'location': {'name': 'Nagpur', 'country': 'India', 'region': 'Maharashtra', 'lat': '21.150', 'lon': '79.100', 'timezone_id': 'Asia/Kolkata', 'localtime': '2025-07-20 10:12', 'localtime_epoch': 1753006320, 'utc_offset': '5.50'}, 'current': {'observation_time': '04:42 AM', 'temperature': 29, 'weather_code': 143, 'weather_icons': ['https://cdn.worldweatheronline.com/images/wsymbols01_png_64/wsymbol_0006_mist.png'], 'weather_descriptions': ['Haze'], 'astro': {'sunrise': '05:43 AM', 'sunset': '06:57 PM', 'moonrise': '12:56 AM', 'moonset': '02:44 PM', 'moon_phase': 'Waning Crescent', 'moon_illumination': 28}, 'air_quality': {'co': '386.65', 'no2': '31.08', 'o3': '28', 'so2': '14.06', 'pm2_5': '53.65', 'pm10': '102.305', 'us-epa-index': '3', 'gb-defra-index': '3'}, 'wind_speed': 8, 'wind_degree': 302, 'wind_dir': 'WNW', 'pressure': 1004, 'precip': 0, 'humidity': 66, 'cloudcover': 100, 'feelslike': 31, 'uv_index': 8, 'visibility': 4, 'is_day': 'yes'}}\u001b[0m\u001b[32;1m\u001b[1;3mI now know that Mumbai is the capital of Maharashtra, and the current weather condition in Mumbai is Haze with a temperature of 29°C. Nagpur is the winter capital of Maharashtra, and the current weather condition in Nagpur is also Haze with a temperature of 29°C.\n",
      "Final Answer: The capital of Maharashtra is Mumbai, and the current weather condition there is Haze with a temperature of 29°C.\u001b[0m\n",
      "\n",
      "\u001b[1m> Finished chain.\u001b[0m\n"
     ]
    }
   ],
   "source": [
    "response = agent_executor.invoke({\"input\": \"Find the Capital of Maharashtra, then find it's current weather condition\"})"
   ]
  },
  {
   "cell_type": "code",
   "execution_count": 92,
   "id": "f6aacca9",
   "metadata": {},
   "outputs": [
    {
     "data": {
      "text/plain": [
       "'The capital of Maharashtra is Mumbai, and the current weather condition there is Haze with a temperature of 29°C.'"
      ]
     },
     "execution_count": 92,
     "metadata": {},
     "output_type": "execute_result"
    }
   ],
   "source": [
    "response[\"output\"]"
   ]
  },
  {
   "cell_type": "code",
   "execution_count": null,
   "id": "14a551ab",
   "metadata": {},
   "outputs": [],
   "source": []
  }
 ],
 "metadata": {
  "kernelspec": {
   "display_name": "venv",
   "language": "python",
   "name": "python3"
  },
  "language_info": {
   "codemirror_mode": {
    "name": "ipython",
    "version": 3
   },
   "file_extension": ".py",
   "mimetype": "text/x-python",
   "name": "python",
   "nbconvert_exporter": "python",
   "pygments_lexer": "ipython3",
   "version": "3.10.11"
  }
 },
 "nbformat": 4,
 "nbformat_minor": 5
}
